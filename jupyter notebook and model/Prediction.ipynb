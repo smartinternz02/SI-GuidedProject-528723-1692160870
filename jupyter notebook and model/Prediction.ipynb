{
 "cells": [
  {
   "cell_type": "code",
   "execution_count": 2,
   "id": "3a3f0e7d",
   "metadata": {},
   "outputs": [
    {
     "name": "stdout",
     "output_type": "stream",
     "text": [
      "Collecting opencv-python\n",
      "  Downloading opencv_python-4.8.0.74-cp37-abi3-win_amd64.whl (38.1 MB)\n",
      "Requirement already satisfied: numpy>=1.17.0 in c:\\users\\dell\\anaconda3\\lib\\site-packages (from opencv-python) (1.24.3)\n",
      "Installing collected packages: opencv-python\n",
      "Successfully installed opencv-python-4.8.0.74\n",
      "Note: you may need to restart the kernel to use updated packages.\n"
     ]
    }
   ],
   "source": [
    "pip install opencv-python"
   ]
  },
  {
   "cell_type": "code",
   "execution_count": 25,
   "id": "4581e233",
   "metadata": {},
   "outputs": [],
   "source": [
    "#Importing the Model Libraries\n",
    "import cv2\n",
    "import numpy as np\n",
    "import smtplib\n",
    "from keras.preprocessing import image\n",
    "import tensorflow as tf\n",
    "import os\n",
    "import math\n",
    "name=[\"Found Missing\",\"Normal\"]"
   ]
  },
  {
   "cell_type": "code",
   "execution_count": 68,
   "id": "2d73ccf5",
   "metadata": {},
   "outputs": [],
   "source": [
    "# Loading the saved model\n",
    "model=tf.keras.models.load_model('Missing_1.h5')"
   ]
  },
  {
   "cell_type": "code",
   "execution_count": 93,
   "id": "8bfd016b",
   "metadata": {},
   "outputs": [],
   "source": [
    "#Giving the random image path\n",
    "img = image.load_img(r\"C:\\Users\\Dell\\Downloads\\Dataset\\Dataset\\trainset\\Found Missing\\gettyimages-946964354-612x612.jpg\",target_size=(64,64))\n",
    "x=image.img_to_array(img)\n",
    "x=np.expand_dims(x,axis=0)"
   ]
  },
  {
   "cell_type": "code",
   "execution_count": 94,
   "id": "03c5659d",
   "metadata": {},
   "outputs": [
    {
     "name": "stdout",
     "output_type": "stream",
     "text": [
      "1/1 [==============================] - 0s 41ms/step\n"
     ]
    }
   ],
   "source": [
    "#Classes of prediction\n",
    "pred = model.predict(x)\n",
    "predicted_classes = pred.argmax(axis=1)"
   ]
  },
  {
   "cell_type": "code",
   "execution_count": 95,
   "id": "f7f7efad",
   "metadata": {},
   "outputs": [
    {
     "data": {
      "text/plain": [
       "array([0.], dtype=float32)"
      ]
     },
     "execution_count": 95,
     "metadata": {},
     "output_type": "execute_result"
    }
   ],
   "source": [
    "pred[0]"
   ]
  },
  {
   "cell_type": "code",
   "execution_count": 96,
   "id": "f382d643",
   "metadata": {},
   "outputs": [
    {
     "data": {
      "text/plain": [
       "0"
      ]
     },
     "execution_count": 96,
     "metadata": {},
     "output_type": "execute_result"
    }
   ],
   "source": [
    "int(round(pred[0][0]))"
   ]
  },
  {
   "cell_type": "code",
   "execution_count": null,
   "id": "ebd2179d",
   "metadata": {},
   "outputs": [],
   "source": []
  },
  {
   "cell_type": "code",
   "execution_count": null,
   "id": "d3fd26b8",
   "metadata": {},
   "outputs": [],
   "source": []
  }
 ],
 "metadata": {
  "kernelspec": {
   "display_name": "Python 3 (ipykernel)",
   "language": "python",
   "name": "python3"
  },
  "language_info": {
   "codemirror_mode": {
    "name": "ipython",
    "version": 3
   },
   "file_extension": ".py",
   "mimetype": "text/x-python",
   "name": "python",
   "nbconvert_exporter": "python",
   "pygments_lexer": "ipython3",
   "version": "3.9.7"
  }
 },
 "nbformat": 4,
 "nbformat_minor": 5
}
