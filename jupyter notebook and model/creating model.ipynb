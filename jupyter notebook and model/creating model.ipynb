{
 "cells": [
  {
   "cell_type": "code",
   "execution_count": 11,
   "id": "40fd3808",
   "metadata": {
    "scrolled": true
   },
   "outputs": [
    {
     "name": "stdout",
     "output_type": "stream",
     "text": [
      "Requirement already satisfied: tensorflow in c:\\users\\dell\\anaconda3\\lib\\site-packages (2.13.0)\n",
      "Requirement already satisfied: tensorflow-intel==2.13.0 in c:\\users\\dell\\anaconda3\\lib\\site-packages (from tensorflow) (2.13.0)\n",
      "Requirement already satisfied: tensorflow-estimator<2.14,>=2.13.0 in c:\\users\\dell\\anaconda3\\lib\\site-packages (from tensorflow-intel==2.13.0->tensorflow) (2.13.0)\n",
      "Requirement already satisfied: grpcio<2.0,>=1.24.3 in c:\\users\\dell\\anaconda3\\lib\\site-packages (from tensorflow-intel==2.13.0->tensorflow) (1.56.0)\n",
      "Requirement already satisfied: absl-py>=1.0.0 in c:\\users\\dell\\anaconda3\\lib\\site-packages (from tensorflow-intel==2.13.0->tensorflow) (1.4.0)\n",
      "Requirement already satisfied: six>=1.12.0 in c:\\users\\dell\\anaconda3\\lib\\site-packages (from tensorflow-intel==2.13.0->tensorflow) (1.16.0)\n",
      "Requirement already satisfied: libclang>=13.0.0 in c:\\users\\dell\\anaconda3\\lib\\site-packages (from tensorflow-intel==2.13.0->tensorflow) (16.0.0)\n",
      "Requirement already satisfied: flatbuffers>=23.1.21 in c:\\users\\dell\\anaconda3\\lib\\site-packages (from tensorflow-intel==2.13.0->tensorflow) (23.5.26)\n",
      "Requirement already satisfied: astunparse>=1.6.0 in c:\\users\\dell\\anaconda3\\lib\\site-packages (from tensorflow-intel==2.13.0->tensorflow) (1.6.3)\n",
      "Requirement already satisfied: gast<=0.4.0,>=0.2.1 in c:\\users\\dell\\anaconda3\\lib\\site-packages (from tensorflow-intel==2.13.0->tensorflow) (0.4.0)\n",
      "Requirement already satisfied: typing-extensions<4.6.0,>=3.6.6 in c:\\users\\dell\\anaconda3\\lib\\site-packages (from tensorflow-intel==2.13.0->tensorflow) (3.10.0.2)\n",
      "Requirement already satisfied: packaging in c:\\users\\dell\\anaconda3\\lib\\site-packages (from tensorflow-intel==2.13.0->tensorflow) (21.0)\n",
      "Requirement already satisfied: tensorboard<2.14,>=2.13 in c:\\users\\dell\\anaconda3\\lib\\site-packages (from tensorflow-intel==2.13.0->tensorflow) (2.13.0)\n",
      "Requirement already satisfied: wrapt>=1.11.0 in c:\\users\\dell\\anaconda3\\lib\\site-packages (from tensorflow-intel==2.13.0->tensorflow) (1.12.1)\n",
      "Requirement already satisfied: google-pasta>=0.1.1 in c:\\users\\dell\\anaconda3\\lib\\site-packages (from tensorflow-intel==2.13.0->tensorflow) (0.2.0)\n",
      "Requirement already satisfied: termcolor>=1.1.0 in c:\\users\\dell\\anaconda3\\lib\\site-packages (from tensorflow-intel==2.13.0->tensorflow) (2.3.0)\n",
      "Requirement already satisfied: opt-einsum>=2.3.2 in c:\\users\\dell\\anaconda3\\lib\\site-packages (from tensorflow-intel==2.13.0->tensorflow) (3.3.0)\n",
      "Requirement already satisfied: protobuf!=4.21.0,!=4.21.1,!=4.21.2,!=4.21.3,!=4.21.4,!=4.21.5,<5.0.0dev,>=3.20.3 in c:\\users\\dell\\anaconda3\\lib\\site-packages (from tensorflow-intel==2.13.0->tensorflow) (4.23.4)\n",
      "Requirement already satisfied: keras<2.14,>=2.13.1 in c:\\users\\dell\\anaconda3\\lib\\site-packages (from tensorflow-intel==2.13.0->tensorflow) (2.13.1)\n",
      "Requirement already satisfied: h5py>=2.9.0 in c:\\users\\dell\\anaconda3\\lib\\site-packages (from tensorflow-intel==2.13.0->tensorflow) (3.2.1)\n",
      "Requirement already satisfied: setuptools in c:\\users\\dell\\anaconda3\\lib\\site-packages (from tensorflow-intel==2.13.0->tensorflow) (58.0.4)\n",
      "Requirement already satisfied: numpy<=1.24.3,>=1.22 in c:\\users\\dell\\anaconda3\\lib\\site-packages (from tensorflow-intel==2.13.0->tensorflow) (1.24.3)\n",
      "Requirement already satisfied: tensorflow-io-gcs-filesystem>=0.23.1 in c:\\users\\dell\\anaconda3\\lib\\site-packages (from tensorflow-intel==2.13.0->tensorflow) (0.31.0)\n",
      "Requirement already satisfied: wheel<1.0,>=0.23.0 in c:\\users\\dell\\anaconda3\\lib\\site-packages (from astunparse>=1.6.0->tensorflow-intel==2.13.0->tensorflow) (0.37.0)\n",
      "Requirement already satisfied: google-auth-oauthlib<1.1,>=0.5 in c:\\users\\dell\\anaconda3\\lib\\site-packages (from tensorboard<2.14,>=2.13->tensorflow-intel==2.13.0->tensorflow) (1.0.0)\n",
      "Requirement already satisfied: google-auth<3,>=1.6.3 in c:\\users\\dell\\anaconda3\\lib\\site-packages (from tensorboard<2.14,>=2.13->tensorflow-intel==2.13.0->tensorflow) (2.22.0)\n",
      "Requirement already satisfied: tensorboard-data-server<0.8.0,>=0.7.0 in c:\\users\\dell\\anaconda3\\lib\\site-packages (from tensorboard<2.14,>=2.13->tensorflow-intel==2.13.0->tensorflow) (0.7.1)\n",
      "Requirement already satisfied: requests<3,>=2.21.0 in c:\\users\\dell\\anaconda3\\lib\\site-packages (from tensorboard<2.14,>=2.13->tensorflow-intel==2.13.0->tensorflow) (2.26.0)\n",
      "Requirement already satisfied: werkzeug>=1.0.1 in c:\\users\\dell\\anaconda3\\lib\\site-packages (from tensorboard<2.14,>=2.13->tensorflow-intel==2.13.0->tensorflow) (2.0.2)\n",
      "Requirement already satisfied: markdown>=2.6.8 in c:\\users\\dell\\anaconda3\\lib\\site-packages (from tensorboard<2.14,>=2.13->tensorflow-intel==2.13.0->tensorflow) (3.4.3)\n",
      "Requirement already satisfied: rsa<5,>=3.1.4 in c:\\users\\dell\\anaconda3\\lib\\site-packages (from google-auth<3,>=1.6.3->tensorboard<2.14,>=2.13->tensorflow-intel==2.13.0->tensorflow) (4.9)\n",
      "Requirement already satisfied: pyasn1-modules>=0.2.1 in c:\\users\\dell\\anaconda3\\lib\\site-packages (from google-auth<3,>=1.6.3->tensorboard<2.14,>=2.13->tensorflow-intel==2.13.0->tensorflow) (0.3.0)\n",
      "Requirement already satisfied: cachetools<6.0,>=2.0.0 in c:\\users\\dell\\anaconda3\\lib\\site-packages (from google-auth<3,>=1.6.3->tensorboard<2.14,>=2.13->tensorflow-intel==2.13.0->tensorflow) (5.3.1)\n",
      "Requirement already satisfied: urllib3<2.0 in c:\\users\\dell\\anaconda3\\lib\\site-packages (from google-auth<3,>=1.6.3->tensorboard<2.14,>=2.13->tensorflow-intel==2.13.0->tensorflow) (1.26.7)\n",
      "Requirement already satisfied: requests-oauthlib>=0.7.0 in c:\\users\\dell\\anaconda3\\lib\\site-packages (from google-auth-oauthlib<1.1,>=0.5->tensorboard<2.14,>=2.13->tensorflow-intel==2.13.0->tensorflow) (1.3.1)\n",
      "Requirement already satisfied: importlib-metadata>=4.4 in c:\\users\\dell\\anaconda3\\lib\\site-packages (from markdown>=2.6.8->tensorboard<2.14,>=2.13->tensorflow-intel==2.13.0->tensorflow) (4.8.1)\n",
      "Requirement already satisfied: zipp>=0.5 in c:\\users\\dell\\anaconda3\\lib\\site-packages (from importlib-metadata>=4.4->markdown>=2.6.8->tensorboard<2.14,>=2.13->tensorflow-intel==2.13.0->tensorflow) (3.6.0)\n",
      "Requirement already satisfied: pyasn1<0.6.0,>=0.4.6 in c:\\users\\dell\\anaconda3\\lib\\site-packages (from pyasn1-modules>=0.2.1->google-auth<3,>=1.6.3->tensorboard<2.14,>=2.13->tensorflow-intel==2.13.0->tensorflow) (0.5.0)\n",
      "Requirement already satisfied: charset-normalizer~=2.0.0 in c:\\users\\dell\\anaconda3\\lib\\site-packages (from requests<3,>=2.21.0->tensorboard<2.14,>=2.13->tensorflow-intel==2.13.0->tensorflow) (2.0.4)\n",
      "Requirement already satisfied: idna<4,>=2.5 in c:\\users\\dell\\anaconda3\\lib\\site-packages (from requests<3,>=2.21.0->tensorboard<2.14,>=2.13->tensorflow-intel==2.13.0->tensorflow) (3.2)\n",
      "Requirement already satisfied: certifi>=2017.4.17 in c:\\users\\dell\\anaconda3\\lib\\site-packages (from requests<3,>=2.21.0->tensorboard<2.14,>=2.13->tensorflow-intel==2.13.0->tensorflow) (2021.10.8)\n",
      "Requirement already satisfied: oauthlib>=3.0.0 in c:\\users\\dell\\anaconda3\\lib\\site-packages (from requests-oauthlib>=0.7.0->google-auth-oauthlib<1.1,>=0.5->tensorboard<2.14,>=2.13->tensorflow-intel==2.13.0->tensorflow) (3.2.2)\n",
      "Requirement already satisfied: pyparsing>=2.0.2 in c:\\users\\dell\\anaconda3\\lib\\site-packages (from packaging->tensorflow-intel==2.13.0->tensorflow) (3.0.4)\n",
      "Note: you may need to restart the kernel to use updated packages.\n"
     ]
    }
   ],
   "source": [
    "pip install --upgrade tensorflow"
   ]
  },
  {
   "cell_type": "code",
   "execution_count": 20,
   "id": "238a56c6",
   "metadata": {},
   "outputs": [],
   "source": [
    "#importing Keras library\n",
    "import keras"
   ]
  },
  {
   "cell_type": "code",
   "execution_count": 21,
   "id": "a46f8fb9",
   "metadata": {},
   "outputs": [],
   "source": [
    "#importing ImageDataGenerator from keras\n",
    "from keras.preprocessing.image import ImageDataGenerator\n"
   ]
  },
  {
   "cell_type": "code",
   "execution_count": 22,
   "id": "3722f244",
   "metadata": {},
   "outputs": [],
   "source": [
    "#Define the parameters/argumentsfor ImageDataGenerator class\n",
    "train_datagen=ImageDataGenerator(rescale=1./255,\n",
    "                                shear_range=0.2,\n",
    "                                rotation_range=180,\n",
    "                                horizontal_flip=True,\n",
    "                                zoom_range=0.2)\n",
    "test_datagen=ImageDataGenerator(rescale=1./255)"
   ]
  },
  {
   "cell_type": "code",
   "execution_count": 23,
   "id": "ca8ad492",
   "metadata": {},
   "outputs": [
    {
     "name": "stdout",
     "output_type": "stream",
     "text": [
      "Found 240 images belonging to 2 classes.\n"
     ]
    }
   ],
   "source": [
    "#Applying ImageDataGenerator functionality to training_set\n",
    "x_train=train_datagen.flow_from_directory(r\"C:\\Users\\Dell\\Downloads\\Dataset\\Dataset\\trainset\",target_size=(64,64),batch_size=32,class_mode='binary')"
   ]
  },
  {
   "cell_type": "code",
   "execution_count": 24,
   "id": "86358c2f",
   "metadata": {},
   "outputs": [
    {
     "name": "stdout",
     "output_type": "stream",
     "text": [
      "Found 60 images belonging to 2 classes.\n"
     ]
    }
   ],
   "source": [
    "#Applying ImageDataGenerator functionality to testing_set\n",
    "x_test=test_datagen.flow_from_directory(r\"C:\\Users\\Dell\\Downloads\\Dataset\\Dataset\\testset\",target_size=(64,64),batch_size=32,class_mode='binary')"
   ]
  },
  {
   "cell_type": "code",
   "execution_count": 25,
   "id": "a38543bd",
   "metadata": {},
   "outputs": [],
   "source": [
    "# Importing Model Building Libraries\n",
    "#To define Linear intialisation import seqential\n",
    "from tensorflow.keras.models import Sequential"
   ]
  },
  {
   "cell_type": "code",
   "execution_count": 26,
   "id": "201b4353",
   "metadata": {},
   "outputs": [],
   "source": [
    "#To add hidden layers import Dense\n",
    "from tensorflow.keras.layers import Dense"
   ]
  },
  {
   "cell_type": "code",
   "execution_count": 27,
   "id": "207ad52f",
   "metadata": {},
   "outputs": [],
   "source": [
    "#To create Convolution layaer import convolution2D\n",
    "from tensorflow.keras.layers import Conv2D"
   ]
  },
  {
   "cell_type": "code",
   "execution_count": 28,
   "id": "212c0312",
   "metadata": {},
   "outputs": [],
   "source": [
    "#Import max pooling layer to extra maximum features\n",
    "from tensorflow.keras.layers import MaxPool2D"
   ]
  },
  {
   "cell_type": "code",
   "execution_count": 29,
   "id": "81d1cf50",
   "metadata": {},
   "outputs": [],
   "source": [
    "#importing flatten layer\n",
    "from tensorflow.keras.layers import Flatten"
   ]
  },
  {
   "cell_type": "code",
   "execution_count": 30,
   "id": "718a8b4b",
   "metadata": {},
   "outputs": [],
   "source": [
    "#Intialising the model\n",
    "model=Sequential()"
   ]
  },
  {
   "cell_type": "code",
   "execution_count": 31,
   "id": "0d333fc6",
   "metadata": {},
   "outputs": [],
   "source": [
    "#Adding Convolution layer\n",
    "model.add(Conv2D(32,3,3,input_shape=(64,64,3),activation='relu'))"
   ]
  },
  {
   "cell_type": "code",
   "execution_count": 32,
   "id": "4b634562",
   "metadata": {},
   "outputs": [],
   "source": [
    "# Adding Flatten layer\n",
    "model.add(MaxPool2D(pool_size=(2,2)))"
   ]
  },
  {
   "cell_type": "code",
   "execution_count": 33,
   "id": "f7356687",
   "metadata": {},
   "outputs": [],
   "source": [
    "# Adding flatten layer\n",
    "model.add(Flatten())"
   ]
  },
  {
   "cell_type": "code",
   "execution_count": 34,
   "id": "a3ced00e",
   "metadata": {},
   "outputs": [],
   "source": [
    "#Adding Hidden Layer\n",
    "model.add(Dense(units=128,activation='relu',kernel_initializer='random_uniform'))"
   ]
  },
  {
   "cell_type": "code",
   "execution_count": 35,
   "id": "95fc4cd1",
   "metadata": {},
   "outputs": [],
   "source": [
    "#Adding Output Layer\n",
    "model.add(Dense(units=1,activation='sigmoid',kernel_initializer='random_uniform'))"
   ]
  },
  {
   "cell_type": "code",
   "execution_count": 36,
   "id": "aba28bcb",
   "metadata": {},
   "outputs": [],
   "source": [
    "#Configure the lerarning process\n",
    "model.compile(optimizer='adam',loss='binary_crossentropy',metrics=['accuracy'])"
   ]
  },
  {
   "cell_type": "code",
   "execution_count": 38,
   "id": "539e5c2c",
   "metadata": {},
   "outputs": [
    {
     "name": "stderr",
     "output_type": "stream",
     "text": [
      "C:\\Users\\Dell\\AppData\\Local\\Temp/ipykernel_22968/1863041352.py:1: UserWarning: `Model.fit_generator` is deprecated and will be removed in a future version. Please use `Model.fit`, which supports generators.\n",
      "  model.fit_generator(x_train,steps_per_epoch=8,\n"
     ]
    },
    {
     "name": "stdout",
     "output_type": "stream",
     "text": [
      "Epoch 1/128\n",
      "8/8 [==============================] - 15s 2s/step - loss: 0.6529 - accuracy: 0.6625 - val_loss: 0.6405 - val_accuracy: 0.6667\n",
      "Epoch 2/128\n",
      "8/8 [==============================] - 6s 786ms/step - loss: 0.6502 - accuracy: 0.6667 - val_loss: 0.6456 - val_accuracy: 0.6667\n",
      "Epoch 3/128\n",
      "8/8 [==============================] - 6s 822ms/step - loss: 0.6287 - accuracy: 0.6667 - val_loss: 0.6595 - val_accuracy: 0.6667\n",
      "Epoch 4/128\n",
      "8/8 [==============================] - 6s 785ms/step - loss: 0.6294 - accuracy: 0.6667 - val_loss: 0.6491 - val_accuracy: 0.6667\n",
      "Epoch 5/128\n",
      "8/8 [==============================] - 6s 755ms/step - loss: 0.6207 - accuracy: 0.6667 - val_loss: 0.6539 - val_accuracy: 0.6667\n",
      "Epoch 6/128\n",
      "8/8 [==============================] - 6s 757ms/step - loss: 0.6217 - accuracy: 0.6667 - val_loss: 0.6767 - val_accuracy: 0.6667\n",
      "Epoch 7/128\n",
      "8/8 [==============================] - 6s 787ms/step - loss: 0.6197 - accuracy: 0.6667 - val_loss: 0.6630 - val_accuracy: 0.6667\n",
      "Epoch 8/128\n",
      "8/8 [==============================] - 7s 914ms/step - loss: 0.6279 - accuracy: 0.6667 - val_loss: 0.6607 - val_accuracy: 0.6667\n",
      "Epoch 9/128\n",
      "8/8 [==============================] - 6s 728ms/step - loss: 0.6214 - accuracy: 0.6667 - val_loss: 0.6845 - val_accuracy: 0.6667\n",
      "Epoch 10/128\n",
      "8/8 [==============================] - 6s 758ms/step - loss: 0.6231 - accuracy: 0.6667 - val_loss: 0.6636 - val_accuracy: 0.6667\n",
      "Epoch 11/128\n",
      "8/8 [==============================] - 7s 858ms/step - loss: 0.6192 - accuracy: 0.6667 - val_loss: 0.6744 - val_accuracy: 0.6667\n",
      "Epoch 12/128\n",
      "8/8 [==============================] - 6s 777ms/step - loss: 0.6031 - accuracy: 0.6667 - val_loss: 0.6650 - val_accuracy: 0.6667\n",
      "Epoch 13/128\n",
      "8/8 [==============================] - 6s 783ms/step - loss: 0.6076 - accuracy: 0.6667 - val_loss: 0.6885 - val_accuracy: 0.6667\n",
      "Epoch 14/128\n",
      "8/8 [==============================] - 6s 761ms/step - loss: 0.6087 - accuracy: 0.6667 - val_loss: 0.6888 - val_accuracy: 0.6667\n",
      "Epoch 15/128\n",
      "8/8 [==============================] - 6s 774ms/step - loss: 0.6020 - accuracy: 0.6667 - val_loss: 0.6797 - val_accuracy: 0.6667\n",
      "Epoch 16/128\n",
      "8/8 [==============================] - 6s 872ms/step - loss: 0.6055 - accuracy: 0.6667 - val_loss: 0.6773 - val_accuracy: 0.6333\n",
      "Epoch 17/128\n",
      "8/8 [==============================] - 8s 901ms/step - loss: 0.6019 - accuracy: 0.6708 - val_loss: 0.7119 - val_accuracy: 0.6500\n",
      "Epoch 18/128\n",
      "8/8 [==============================] - 6s 817ms/step - loss: 0.5963 - accuracy: 0.6625 - val_loss: 0.6816 - val_accuracy: 0.6167\n",
      "Epoch 19/128\n",
      "8/8 [==============================] - 6s 793ms/step - loss: 0.6032 - accuracy: 0.6833 - val_loss: 0.7014 - val_accuracy: 0.6667\n",
      "Epoch 20/128\n",
      "8/8 [==============================] - 6s 756ms/step - loss: 0.6031 - accuracy: 0.6667 - val_loss: 0.6806 - val_accuracy: 0.6667\n",
      "Epoch 21/128\n",
      "8/8 [==============================] - 6s 742ms/step - loss: 0.5899 - accuracy: 0.6833 - val_loss: 0.6769 - val_accuracy: 0.6500\n",
      "Epoch 22/128\n",
      "8/8 [==============================] - 6s 783ms/step - loss: 0.5856 - accuracy: 0.6667 - val_loss: 0.6974 - val_accuracy: 0.6500\n",
      "Epoch 23/128\n",
      "8/8 [==============================] - 6s 736ms/step - loss: 0.5882 - accuracy: 0.6917 - val_loss: 0.6914 - val_accuracy: 0.6500\n",
      "Epoch 24/128\n",
      "8/8 [==============================] - 6s 763ms/step - loss: 0.5785 - accuracy: 0.6833 - val_loss: 0.6676 - val_accuracy: 0.5833\n",
      "Epoch 25/128\n",
      "8/8 [==============================] - 6s 766ms/step - loss: 0.5829 - accuracy: 0.7292 - val_loss: 0.7403 - val_accuracy: 0.6333\n",
      "Epoch 26/128\n",
      "8/8 [==============================] - 6s 779ms/step - loss: 0.6036 - accuracy: 0.6542 - val_loss: 0.6715 - val_accuracy: 0.6000\n",
      "Epoch 27/128\n",
      "8/8 [==============================] - 6s 772ms/step - loss: 0.5875 - accuracy: 0.6833 - val_loss: 0.7534 - val_accuracy: 0.6167\n",
      "Epoch 28/128\n",
      "8/8 [==============================] - 6s 802ms/step - loss: 0.5874 - accuracy: 0.6875 - val_loss: 0.6834 - val_accuracy: 0.6333\n",
      "Epoch 29/128\n",
      "8/8 [==============================] - 6s 750ms/step - loss: 0.5805 - accuracy: 0.6833 - val_loss: 0.7309 - val_accuracy: 0.6167\n",
      "Epoch 30/128\n",
      "8/8 [==============================] - 6s 763ms/step - loss: 0.5807 - accuracy: 0.6708 - val_loss: 0.6741 - val_accuracy: 0.5833\n",
      "Epoch 31/128\n",
      "8/8 [==============================] - 6s 823ms/step - loss: 0.5776 - accuracy: 0.7042 - val_loss: 0.7230 - val_accuracy: 0.6167\n",
      "Epoch 32/128\n",
      "8/8 [==============================] - 6s 777ms/step - loss: 0.5947 - accuracy: 0.6875 - val_loss: 0.6738 - val_accuracy: 0.5833\n",
      "Epoch 33/128\n",
      "8/8 [==============================] - 6s 816ms/step - loss: 0.5953 - accuracy: 0.6833 - val_loss: 0.7161 - val_accuracy: 0.6333\n",
      "Epoch 34/128\n",
      "8/8 [==============================] - 6s 806ms/step - loss: 0.5785 - accuracy: 0.6917 - val_loss: 0.6852 - val_accuracy: 0.6333\n",
      "Epoch 35/128\n",
      "8/8 [==============================] - 6s 812ms/step - loss: 0.5729 - accuracy: 0.7208 - val_loss: 0.6804 - val_accuracy: 0.6500\n",
      "Epoch 36/128\n",
      "8/8 [==============================] - 7s 862ms/step - loss: 0.5685 - accuracy: 0.7125 - val_loss: 0.6889 - val_accuracy: 0.6333\n",
      "Epoch 37/128\n",
      "8/8 [==============================] - 7s 841ms/step - loss: 0.5644 - accuracy: 0.7583 - val_loss: 0.7214 - val_accuracy: 0.6500\n",
      "Epoch 38/128\n",
      "8/8 [==============================] - 7s 853ms/step - loss: 0.5832 - accuracy: 0.7125 - val_loss: 0.6678 - val_accuracy: 0.6000\n",
      "Epoch 39/128\n",
      "8/8 [==============================] - 6s 870ms/step - loss: 0.5687 - accuracy: 0.7250 - val_loss: 0.6970 - val_accuracy: 0.6500\n",
      "Epoch 40/128\n",
      "8/8 [==============================] - 6s 749ms/step - loss: 0.5551 - accuracy: 0.7250 - val_loss: 0.6857 - val_accuracy: 0.5833\n",
      "Epoch 41/128\n",
      "8/8 [==============================] - 7s 857ms/step - loss: 0.5709 - accuracy: 0.7042 - val_loss: 0.7325 - val_accuracy: 0.6500\n",
      "Epoch 42/128\n",
      "8/8 [==============================] - 7s 873ms/step - loss: 0.5444 - accuracy: 0.7167 - val_loss: 0.7105 - val_accuracy: 0.5833\n",
      "Epoch 43/128\n",
      "8/8 [==============================] - 6s 773ms/step - loss: 0.5590 - accuracy: 0.7333 - val_loss: 0.7122 - val_accuracy: 0.5833\n",
      "Epoch 44/128\n",
      "8/8 [==============================] - 6s 759ms/step - loss: 0.5509 - accuracy: 0.7333 - val_loss: 0.7850 - val_accuracy: 0.6333\n",
      "Epoch 45/128\n",
      "8/8 [==============================] - 6s 793ms/step - loss: 0.5465 - accuracy: 0.7250 - val_loss: 0.7271 - val_accuracy: 0.5833\n",
      "Epoch 46/128\n",
      "8/8 [==============================] - 6s 788ms/step - loss: 0.5472 - accuracy: 0.6875 - val_loss: 0.7053 - val_accuracy: 0.6167\n",
      "Epoch 47/128\n",
      "8/8 [==============================] - 6s 763ms/step - loss: 0.5431 - accuracy: 0.7333 - val_loss: 0.6878 - val_accuracy: 0.6000\n",
      "Epoch 48/128\n",
      "8/8 [==============================] - 6s 764ms/step - loss: 0.5322 - accuracy: 0.7500 - val_loss: 0.6966 - val_accuracy: 0.6167\n",
      "Epoch 49/128\n",
      "8/8 [==============================] - 7s 897ms/step - loss: 0.5214 - accuracy: 0.7500 - val_loss: 0.6905 - val_accuracy: 0.6167\n",
      "Epoch 50/128\n",
      "8/8 [==============================] - 6s 728ms/step - loss: 0.5197 - accuracy: 0.7542 - val_loss: 0.6971 - val_accuracy: 0.5833\n",
      "Epoch 51/128\n",
      "8/8 [==============================] - 6s 760ms/step - loss: 0.5305 - accuracy: 0.7625 - val_loss: 0.7191 - val_accuracy: 0.6000\n",
      "Epoch 52/128\n",
      "8/8 [==============================] - 7s 850ms/step - loss: 0.5488 - accuracy: 0.7375 - val_loss: 0.6748 - val_accuracy: 0.6167\n",
      "Epoch 53/128\n",
      "8/8 [==============================] - 6s 831ms/step - loss: 0.5245 - accuracy: 0.7542 - val_loss: 0.6834 - val_accuracy: 0.6333\n",
      "Epoch 54/128\n",
      "8/8 [==============================] - 6s 769ms/step - loss: 0.5251 - accuracy: 0.7500 - val_loss: 0.6918 - val_accuracy: 0.6333\n",
      "Epoch 55/128\n",
      "8/8 [==============================] - 6s 807ms/step - loss: 0.5017 - accuracy: 0.7458 - val_loss: 0.7059 - val_accuracy: 0.6333\n",
      "Epoch 56/128\n",
      "8/8 [==============================] - 6s 752ms/step - loss: 0.5322 - accuracy: 0.7250 - val_loss: 0.8742 - val_accuracy: 0.6667\n",
      "Epoch 57/128\n",
      "8/8 [==============================] - 6s 747ms/step - loss: 0.5068 - accuracy: 0.7500 - val_loss: 0.6828 - val_accuracy: 0.5833\n",
      "Epoch 58/128\n",
      "8/8 [==============================] - 6s 783ms/step - loss: 0.5203 - accuracy: 0.7583 - val_loss: 0.7801 - val_accuracy: 0.6667\n"
     ]
    },
    {
     "name": "stdout",
     "output_type": "stream",
     "text": [
      "Epoch 59/128\n",
      "8/8 [==============================] - 6s 758ms/step - loss: 0.4976 - accuracy: 0.7708 - val_loss: 0.6753 - val_accuracy: 0.6500\n",
      "Epoch 60/128\n",
      "8/8 [==============================] - 6s 754ms/step - loss: 0.5090 - accuracy: 0.7708 - val_loss: 0.8271 - val_accuracy: 0.6667\n",
      "Epoch 61/128\n",
      "8/8 [==============================] - 6s 767ms/step - loss: 0.5518 - accuracy: 0.6792 - val_loss: 0.6696 - val_accuracy: 0.6333\n",
      "Epoch 62/128\n",
      "8/8 [==============================] - 6s 779ms/step - loss: 0.5224 - accuracy: 0.7208 - val_loss: 0.7064 - val_accuracy: 0.6667\n",
      "Epoch 63/128\n",
      "8/8 [==============================] - 6s 814ms/step - loss: 0.5287 - accuracy: 0.7542 - val_loss: 0.6901 - val_accuracy: 0.6500\n",
      "Epoch 64/128\n",
      "8/8 [==============================] - 6s 737ms/step - loss: 0.4984 - accuracy: 0.7542 - val_loss: 0.6996 - val_accuracy: 0.6833\n",
      "Epoch 65/128\n",
      "8/8 [==============================] - 6s 756ms/step - loss: 0.4826 - accuracy: 0.7833 - val_loss: 0.7056 - val_accuracy: 0.6833\n",
      "Epoch 66/128\n",
      "8/8 [==============================] - 6s 760ms/step - loss: 0.4848 - accuracy: 0.7750 - val_loss: 0.6868 - val_accuracy: 0.5833\n",
      "Epoch 67/128\n",
      "8/8 [==============================] - 6s 760ms/step - loss: 0.5234 - accuracy: 0.7625 - val_loss: 0.6865 - val_accuracy: 0.6167\n",
      "Epoch 68/128\n",
      "8/8 [==============================] - 8s 1s/step - loss: 0.5134 - accuracy: 0.7500 - val_loss: 0.7867 - val_accuracy: 0.6500\n",
      "Epoch 69/128\n",
      "8/8 [==============================] - 7s 833ms/step - loss: 0.5080 - accuracy: 0.7500 - val_loss: 0.6720 - val_accuracy: 0.6167\n",
      "Epoch 70/128\n",
      "8/8 [==============================] - 6s 806ms/step - loss: 0.4951 - accuracy: 0.7750 - val_loss: 0.7294 - val_accuracy: 0.6333\n",
      "Epoch 71/128\n",
      "8/8 [==============================] - 6s 778ms/step - loss: 0.4790 - accuracy: 0.7750 - val_loss: 0.6851 - val_accuracy: 0.6167\n",
      "Epoch 72/128\n",
      "8/8 [==============================] - 6s 742ms/step - loss: 0.4562 - accuracy: 0.8000 - val_loss: 0.6651 - val_accuracy: 0.6333\n",
      "Epoch 73/128\n",
      "8/8 [==============================] - 6s 788ms/step - loss: 0.4805 - accuracy: 0.7708 - val_loss: 0.7116 - val_accuracy: 0.6667\n",
      "Epoch 74/128\n",
      "8/8 [==============================] - 6s 808ms/step - loss: 0.4939 - accuracy: 0.7792 - val_loss: 0.6824 - val_accuracy: 0.6167\n",
      "Epoch 75/128\n",
      "8/8 [==============================] - 6s 720ms/step - loss: 0.4885 - accuracy: 0.7625 - val_loss: 0.6706 - val_accuracy: 0.6333\n",
      "Epoch 76/128\n",
      "8/8 [==============================] - 6s 764ms/step - loss: 0.4776 - accuracy: 0.8000 - val_loss: 0.7336 - val_accuracy: 0.6667\n",
      "Epoch 77/128\n",
      "8/8 [==============================] - 6s 754ms/step - loss: 0.4565 - accuracy: 0.7875 - val_loss: 0.6772 - val_accuracy: 0.6167\n",
      "Epoch 78/128\n",
      "8/8 [==============================] - 6s 771ms/step - loss: 0.4729 - accuracy: 0.7708 - val_loss: 0.7136 - val_accuracy: 0.6500\n",
      "Epoch 79/128\n",
      "8/8 [==============================] - 6s 756ms/step - loss: 0.4856 - accuracy: 0.7625 - val_loss: 0.7214 - val_accuracy: 0.6500\n",
      "Epoch 80/128\n",
      "8/8 [==============================] - 6s 775ms/step - loss: 0.4353 - accuracy: 0.8000 - val_loss: 0.6999 - val_accuracy: 0.6000\n",
      "Epoch 81/128\n",
      "8/8 [==============================] - 6s 747ms/step - loss: 0.4764 - accuracy: 0.7875 - val_loss: 0.9662 - val_accuracy: 0.6833\n",
      "Epoch 82/128\n",
      "8/8 [==============================] - 6s 742ms/step - loss: 0.5043 - accuracy: 0.7625 - val_loss: 0.6836 - val_accuracy: 0.5833\n",
      "Epoch 83/128\n",
      "8/8 [==============================] - 6s 780ms/step - loss: 0.4849 - accuracy: 0.7625 - val_loss: 0.7009 - val_accuracy: 0.6667\n",
      "Epoch 84/128\n",
      "8/8 [==============================] - 6s 815ms/step - loss: 0.4738 - accuracy: 0.7917 - val_loss: 0.6972 - val_accuracy: 0.6667\n",
      "Epoch 85/128\n",
      "8/8 [==============================] - 6s 815ms/step - loss: 0.4764 - accuracy: 0.7542 - val_loss: 0.7116 - val_accuracy: 0.6667\n",
      "Epoch 86/128\n",
      "8/8 [==============================] - 6s 741ms/step - loss: 0.4906 - accuracy: 0.7542 - val_loss: 0.7160 - val_accuracy: 0.6667\n",
      "Epoch 87/128\n",
      "8/8 [==============================] - 6s 766ms/step - loss: 0.5211 - accuracy: 0.7125 - val_loss: 0.6696 - val_accuracy: 0.6500\n",
      "Epoch 88/128\n",
      "8/8 [==============================] - 6s 772ms/step - loss: 0.4758 - accuracy: 0.8000 - val_loss: 0.7114 - val_accuracy: 0.6667\n",
      "Epoch 89/128\n",
      "8/8 [==============================] - 7s 834ms/step - loss: 0.4748 - accuracy: 0.7875 - val_loss: 0.6711 - val_accuracy: 0.6667\n",
      "Epoch 90/128\n",
      "8/8 [==============================] - 6s 772ms/step - loss: 0.4740 - accuracy: 0.7792 - val_loss: 0.6837 - val_accuracy: 0.7167\n",
      "Epoch 91/128\n",
      "8/8 [==============================] - 6s 759ms/step - loss: 0.4936 - accuracy: 0.7667 - val_loss: 0.7175 - val_accuracy: 0.6333\n",
      "Epoch 92/128\n",
      "8/8 [==============================] - 6s 788ms/step - loss: 0.4619 - accuracy: 0.8083 - val_loss: 0.7076 - val_accuracy: 0.6500\n",
      "Epoch 93/128\n",
      "8/8 [==============================] - 6s 730ms/step - loss: 0.4574 - accuracy: 0.7750 - val_loss: 0.7513 - val_accuracy: 0.6333\n",
      "Epoch 94/128\n",
      "8/8 [==============================] - 7s 831ms/step - loss: 0.4574 - accuracy: 0.7833 - val_loss: 0.7425 - val_accuracy: 0.6500\n",
      "Epoch 95/128\n",
      "8/8 [==============================] - 6s 845ms/step - loss: 0.4325 - accuracy: 0.8167 - val_loss: 0.7181 - val_accuracy: 0.6500\n",
      "Epoch 96/128\n",
      "8/8 [==============================] - 6s 747ms/step - loss: 0.4413 - accuracy: 0.8042 - val_loss: 0.7739 - val_accuracy: 0.6167\n",
      "Epoch 97/128\n",
      "8/8 [==============================] - 6s 766ms/step - loss: 0.4348 - accuracy: 0.7917 - val_loss: 0.7506 - val_accuracy: 0.6333\n",
      "Epoch 98/128\n",
      "8/8 [==============================] - 6s 703ms/step - loss: 0.4465 - accuracy: 0.8208 - val_loss: 0.8711 - val_accuracy: 0.6333\n",
      "Epoch 99/128\n",
      "8/8 [==============================] - 6s 739ms/step - loss: 0.4348 - accuracy: 0.7917 - val_loss: 0.7437 - val_accuracy: 0.6167\n",
      "Epoch 100/128\n",
      "8/8 [==============================] - 6s 764ms/step - loss: 0.4519 - accuracy: 0.8042 - val_loss: 0.7813 - val_accuracy: 0.6667\n",
      "Epoch 101/128\n",
      "8/8 [==============================] - 6s 773ms/step - loss: 0.4484 - accuracy: 0.7958 - val_loss: 0.7624 - val_accuracy: 0.6333\n",
      "Epoch 102/128\n",
      "8/8 [==============================] - 6s 757ms/step - loss: 0.4215 - accuracy: 0.8125 - val_loss: 0.7412 - val_accuracy: 0.5667\n",
      "Epoch 103/128\n",
      "8/8 [==============================] - 6s 777ms/step - loss: 0.4817 - accuracy: 0.7833 - val_loss: 0.8982 - val_accuracy: 0.6500\n",
      "Epoch 104/128\n",
      "8/8 [==============================] - 6s 734ms/step - loss: 0.4458 - accuracy: 0.7833 - val_loss: 0.7068 - val_accuracy: 0.6000\n",
      "Epoch 105/128\n",
      "8/8 [==============================] - 6s 699ms/step - loss: 0.4199 - accuracy: 0.8125 - val_loss: 0.8221 - val_accuracy: 0.6667\n",
      "Epoch 106/128\n",
      "8/8 [==============================] - 6s 744ms/step - loss: 0.4315 - accuracy: 0.8292 - val_loss: 0.7232 - val_accuracy: 0.5500\n",
      "Epoch 107/128\n",
      "8/8 [==============================] - 7s 832ms/step - loss: 0.4283 - accuracy: 0.8083 - val_loss: 0.8949 - val_accuracy: 0.6500\n",
      "Epoch 108/128\n",
      "8/8 [==============================] - 6s 736ms/step - loss: 0.4507 - accuracy: 0.7875 - val_loss: 0.7269 - val_accuracy: 0.6000\n",
      "Epoch 109/128\n",
      "8/8 [==============================] - 6s 752ms/step - loss: 0.4350 - accuracy: 0.8042 - val_loss: 0.7997 - val_accuracy: 0.6500\n",
      "Epoch 110/128\n",
      "8/8 [==============================] - 6s 758ms/step - loss: 0.4300 - accuracy: 0.8125 - val_loss: 0.7360 - val_accuracy: 0.6000\n",
      "Epoch 111/128\n",
      "8/8 [==============================] - 6s 781ms/step - loss: 0.4467 - accuracy: 0.8042 - val_loss: 0.7173 - val_accuracy: 0.6000\n",
      "Epoch 112/128\n",
      "8/8 [==============================] - 6s 755ms/step - loss: 0.4364 - accuracy: 0.8000 - val_loss: 0.7634 - val_accuracy: 0.6667\n",
      "Epoch 113/128\n",
      "8/8 [==============================] - 6s 726ms/step - loss: 0.4161 - accuracy: 0.8083 - val_loss: 0.7150 - val_accuracy: 0.6167\n",
      "Epoch 114/128\n",
      "8/8 [==============================] - 6s 798ms/step - loss: 0.4448 - accuracy: 0.8042 - val_loss: 0.7371 - val_accuracy: 0.6000\n",
      "Epoch 115/128\n",
      "8/8 [==============================] - 6s 717ms/step - loss: 0.4471 - accuracy: 0.7708 - val_loss: 0.8849 - val_accuracy: 0.6000\n",
      "Epoch 116/128\n",
      "8/8 [==============================] - 6s 770ms/step - loss: 0.4447 - accuracy: 0.7958 - val_loss: 0.7241 - val_accuracy: 0.5833\n",
      "Epoch 117/128\n",
      "8/8 [==============================] - 6s 734ms/step - loss: 0.4357 - accuracy: 0.7833 - val_loss: 0.8192 - val_accuracy: 0.6667\n",
      "Epoch 118/128\n",
      "8/8 [==============================] - 6s 739ms/step - loss: 0.4511 - accuracy: 0.7875 - val_loss: 0.7247 - val_accuracy: 0.6000\n",
      "Epoch 119/128\n",
      "8/8 [==============================] - 6s 824ms/step - loss: 0.4256 - accuracy: 0.7875 - val_loss: 0.7576 - val_accuracy: 0.6667\n",
      "Epoch 120/128\n",
      "8/8 [==============================] - 6s 824ms/step - loss: 0.4282 - accuracy: 0.8125 - val_loss: 0.7274 - val_accuracy: 0.6167\n",
      "Epoch 121/128\n",
      "8/8 [==============================] - 7s 859ms/step - loss: 0.4401 - accuracy: 0.7958 - val_loss: 0.7421 - val_accuracy: 0.6500\n",
      "Epoch 122/128\n",
      "8/8 [==============================] - 6s 771ms/step - loss: 0.4528 - accuracy: 0.7875 - val_loss: 0.7556 - val_accuracy: 0.6333\n",
      "Epoch 123/128\n",
      "8/8 [==============================] - 7s 846ms/step - loss: 0.4103 - accuracy: 0.8167 - val_loss: 0.8239 - val_accuracy: 0.6333\n",
      "Epoch 124/128\n",
      "8/8 [==============================] - 6s 790ms/step - loss: 0.4337 - accuracy: 0.8167 - val_loss: 0.7847 - val_accuracy: 0.6167\n",
      "Epoch 125/128\n",
      "8/8 [==============================] - 6s 802ms/step - loss: 0.4175 - accuracy: 0.8000 - val_loss: 0.7898 - val_accuracy: 0.6667\n",
      "Epoch 126/128\n",
      "8/8 [==============================] - 7s 860ms/step - loss: 0.4234 - accuracy: 0.8333 - val_loss: 0.7660 - val_accuracy: 0.6667\n",
      "Epoch 127/128\n",
      "8/8 [==============================] - 8s 981ms/step - loss: 0.3751 - accuracy: 0.8792 - val_loss: 0.7967 - val_accuracy: 0.6333\n",
      "Epoch 128/128\n",
      "8/8 [==============================] - 7s 857ms/step - loss: 0.4130 - accuracy: 0.8208 - val_loss: 0.7415 - val_accuracy: 0.6167\n"
     ]
    },
    {
     "data": {
      "text/plain": [
       "<keras.src.callbacks.History at 0x1d2a66d8be0>"
      ]
     },
     "execution_count": 38,
     "metadata": {},
     "output_type": "execute_result"
    }
   ],
   "source": [
    "#Training the model\n",
    "model.fit_generator(x_train,steps_per_epoch=8,\n",
    "                   validation_data=x_test,epochs=128,\n",
    "                   validation_steps=2)"
   ]
  },
  {
   "cell_type": "code",
   "execution_count": 39,
   "id": "19d8142d",
   "metadata": {},
   "outputs": [
    {
     "name": "stderr",
     "output_type": "stream",
     "text": [
      "C:\\Users\\Dell\\anaconda3\\lib\\site-packages\\keras\\src\\engine\\training.py:3000: UserWarning: You are saving your model as an HDF5 file via `model.save()`. This file format is considered legacy. We recommend using instead the native Keras format, e.g. `model.save('my_model.keras')`.\n",
      "  saving_api.save_model(\n"
     ]
    }
   ],
   "source": [
    "model.save('Missing_1.h5')"
   ]
  },
  {
   "cell_type": "code",
   "execution_count": null,
   "id": "26d97d5a",
   "metadata": {},
   "outputs": [],
   "source": []
  }
 ],
 "metadata": {
  "kernelspec": {
   "display_name": "Python 3 (ipykernel)",
   "language": "python",
   "name": "python3"
  },
  "language_info": {
   "codemirror_mode": {
    "name": "ipython",
    "version": 3
   },
   "file_extension": ".py",
   "mimetype": "text/x-python",
   "name": "python",
   "nbconvert_exporter": "python",
   "pygments_lexer": "ipython3",
   "version": "3.9.7"
  }
 },
 "nbformat": 4,
 "nbformat_minor": 5
}
