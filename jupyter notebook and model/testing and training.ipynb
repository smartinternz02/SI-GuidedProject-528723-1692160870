{
 "cells": [
  {
   "cell_type": "code",
   "execution_count": null,
   "id": "349673da",
   "metadata": {
    "scrolled": true
   },
   "outputs": [],
   "source": [
    "pip install twilio"
   ]
  },
  {
   "cell_type": "code",
   "execution_count": 1,
   "id": "54352497",
   "metadata": {},
   "outputs": [
    {
     "name": "stderr",
     "output_type": "stream",
     "text": [
      "C:\\Users\\Dell\\anaconda3\\lib\\site-packages\\scipy\\__init__.py:146: UserWarning: A NumPy version >=1.16.5 and <1.23.0 is required for this version of SciPy (detected version 1.24.3\n",
      "  warnings.warn(f\"A NumPy version >={np_minversion} and <{np_maxversion}\"\n"
     ]
    }
   ],
   "source": [
    "#Importing libraries\n",
    "import cv2\n",
    "import numpy as np\n",
    "from keras.preprocessing import image\n",
    "import tensorflow as tf\n",
    "from twilio.rest import Client"
   ]
  },
  {
   "cell_type": "code",
   "execution_count": 2,
   "id": "dd014b7a",
   "metadata": {},
   "outputs": [],
   "source": [
    "model=tf.keras.models.load_model(\"Missing_1.h5\")\n",
    "video=cv2.VideoCapture(0)\n",
    "name=[\"Found Missing\",\"Normal\"]"
   ]
  },
  {
   "cell_type": "code",
   "execution_count": 3,
   "id": "596b9863",
   "metadata": {},
   "outputs": [],
   "source": [
    "# account_sid=\"AC70b9d6955686f3b53243978a313f08db\"\n",
    "# auth_token=\"25303dd4787f878fde244a815f6f05f5\"\n",
    "# client=Client(account_sid,auth_token)\n",
    "\n",
    "# message=client.messages.create(\n",
    "# to=\"+916302998547\",\n",
    "# from=\"+18149628556\",\n",
    "#     body=\"Found the Missing at 17.3984 N ,78.5583E\")"
   ]
  },
  {
   "cell_type": "code",
   "execution_count": 4,
   "id": "82c95aa0",
   "metadata": {},
   "outputs": [
    {
     "name": "stdout",
     "output_type": "stream",
     "text": [
      "1/1 [==============================] - 1s 555ms/step\n",
      "0.0\n",
      "SM09a76e1d13475facd620b9c6264bff38\n",
      "Found Missing\n",
      "SMS Sent\n",
      "1/1 [==============================] - 0s 55ms/step\n",
      "1.5905446e-16\n",
      "SM95b40a3ee06b910bc72cb8d10cc73b0d\n",
      "Found Missing\n",
      "SMS Sent\n",
      "1/1 [==============================] - 0s 62ms/step\n",
      "5.0019543e-23\n",
      "SMe12581d6461e3811e1524ac131233efe\n",
      "Found Missing\n",
      "SMS Sent\n",
      "1/1 [==============================] - 0s 51ms/step\n",
      "7.874968e-32\n",
      "SMdae0f33a415ca4671f23fb79cd9702e8\n",
      "Found Missing\n",
      "SMS Sent\n",
      "1/1 [==============================] - 0s 61ms/step\n",
      "4.350621e-21\n",
      "SM2c2c9276301e206a5fcca6a264e00a4e\n",
      "Found Missing\n",
      "SMS Sent\n",
      "1/1 [==============================] - 0s 95ms/step\n",
      "1.04361886e-22\n",
      "SM8d60507d0ff5c1940d78de6b32279c14\n",
      "Found Missing\n",
      "SMS Sent\n"
     ]
    }
   ],
   "source": [
    "c=0\n",
    "while True:\n",
    "    success, frame = video.read()\n",
    "    cv2.imwrite(\"image.jpg\", frame)\n",
    "    img = image.load_img(\"image.jpg\", target_size=(64, 64))\n",
    "    x = image.img_to_array(img)\n",
    "    x = np.expand_dims(x, axis=0)\n",
    "    pred = model.predict(x)\n",
    "    p = pred[0][0]\n",
    "    print(p)\n",
    "    p = int(p)  # Convert p to an integer\n",
    "    cv2.putText(frame, \"Predicted Class = \" + str(name[p]), (100, 100), cv2.FONT_HERSHEY_SIMPLEX, 1, (0, 0, 0), 1)\n",
    "\n",
    "    if p == 0:\n",
    "        account_sid = 'ACf3db8e4c034f0aab195dc3884c1f0ff5'\n",
    "        auth_token = '7d3ce3a44e7c422eb04f6e57dd46eadd'\n",
    "        client = Client(account_sid, auth_token)\n",
    "        message = client.messages.create(\n",
    "            to=\"+91 8309649599\",\n",
    "            from_=\"+15733833105\",\n",
    "            body=\"Found the person at Gudiwada\"\n",
    "        )\n",
    "        print(message.sid)\n",
    "        print(\"Found Missing\")\n",
    "        print(\"SMS Sent\")\n",
    "        if c==5:\n",
    "            break\n",
    "    else:\n",
    "        print(\"Normal\")\n",
    "\n",
    "    cv2.imshow(\"frame\", frame)\n",
    "    if cv2.waitKey(1) & 0xFF==ord('a'):\n",
    "        break\n",
    "    c=c+1\n",
    "\n",
    "video.release()\n",
    "cv2.destroyAllWindows()"
   ]
  },
  {
   "cell_type": "code",
   "execution_count": null,
   "id": "66fe3bdc",
   "metadata": {},
   "outputs": [],
   "source": []
  },
  {
   "cell_type": "code",
   "execution_count": null,
   "id": "08494731",
   "metadata": {},
   "outputs": [],
   "source": []
  }
 ],
 "metadata": {
  "kernelspec": {
   "display_name": "Python 3 (ipykernel)",
   "language": "python",
   "name": "python3"
  },
  "language_info": {
   "codemirror_mode": {
    "name": "ipython",
    "version": 3
   },
   "file_extension": ".py",
   "mimetype": "text/x-python",
   "name": "python",
   "nbconvert_exporter": "python",
   "pygments_lexer": "ipython3",
   "version": "3.9.7"
  }
 },
 "nbformat": 4,
 "nbformat_minor": 5
}
